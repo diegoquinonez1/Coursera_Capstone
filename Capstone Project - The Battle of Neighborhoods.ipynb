{
 "cells": [
  {
   "cell_type": "markdown",
   "metadata": {
    "collapsed": true
   },
   "source": [
    "# 1. Business Problem section"
   ]
  },
  {
   "cell_type": "markdown",
   "metadata": {},
   "source": [
    "We are going to explore the cities of Colombia and be able to determine the similarities between each city.\n",
    "\n",
    "In the country of Colombia, universities are in the main cities, so many students from distant cities find themselves with the need to travel and change homes during the study period, in general these university cities are more expensive and complicated than manage in economic terms, social terms, etc.\n",
    "\n",
    "Being able to determine the similarity of a city to find a place to live near the university, but in a place that resembles the city of origin, and to seek benefits in terms of economy, habits, places to frequent; based on venues comparison using the Foursquare liberia.\n",
    "\n",
    "In the end, when you decide to go to study at a university, you do not necessarily have to move to the main city that is more expensive and difficult to maintain, but you can go to a closer, more sustainable, beneficial city that generates easy access to the university with some simpler means of transport."
   ]
  },
  {
   "cell_type": "markdown",
   "metadata": {},
   "source": [
    "# 2. Data section"
   ]
  },
  {
   "cell_type": "markdown",
   "metadata": {},
   "source": [
    "GeoNames is a large open access database, the result of the impressive work of Marc Wick and colleagues, that gathers geographic information from places around the world."
   ]
  },
  {
   "cell_type": "markdown",
   "metadata": {},
   "source": [
    "### Coordinate Collection"
   ]
  },
  {
   "cell_type": "markdown",
   "metadata": {},
   "source": [
    "Only the necessary data such as the name of the city, Latitude, Longitude and the name of the department have been selected.\n",
    "\n",
    "The department and the city are in two different databases, so both will be loaded and merged into a single dataframe.\n",
    "\n",
    "<b>Source: </b> <a href=\"https://carta-natal.es/descargas/geo.php\">https://carta-natal.es/descargas/geo.php</a>\n",
    "\n",
    "<b>Data Source: </b> <a href=\"https://carta-natal.es/descargas/coordenadas.php?file=46\">https://carta-natal.es/descargas/coordenadas.php?file=46</a>"
   ]
  },
  {
   "cell_type": "markdown",
   "metadata": {},
   "source": [
    "<table>\n",
    "    <thead>\n",
    "        <tr><th>Column</th><th>Descrption</th></tr>\n",
    "    </thead>\n",
    "    <tbody>\n",
    "        <tr><td><b>name:</b></td><td>name of the town</td></tr>\n",
    "        <tr><td><b>latitude:</b></td><td>latitude, decimal (wgs84)</td></tr>\n",
    "        <tr><td><b>length:</b></td><td>length, decimal (wgs84)</td></tr>\n",
    "        <tr><td><b>type:</b></td><td>PPL for populated places, PPLC for capitals</td></tr>\n",
    "        <tr><td><b>iso code:</b></td><td>ISO-3166 country code, 2 characters.</td></tr>\n",
    "        <tr><td><b>admin1:</b></td><td>top-level senior management.</td></tr>\n",
    "        <tr><td><b>admin2:</b></td><td>upper second level administration.</td></tr>\n",
    "        <tr><td><b>timezone:</b></td><td>time zone identifier.</td></tr>\n",
    "    </tbody>\n",
    "<table>"
   ]
  },
  {
   "cell_type": "markdown",
   "metadata": {},
   "source": [
    "We will also use the services of the Foursquare library, in order to obtain the geolocation of the different venues for a certain city, based on the previous dataset."
   ]
  }
 ],
 "metadata": {
  "kernelspec": {
   "display_name": "Python 3.7",
   "language": "python",
   "name": "python3"
  },
  "language_info": {
   "codemirror_mode": {
    "name": "ipython",
    "version": 3
   },
   "file_extension": ".py",
   "mimetype": "text/x-python",
   "name": "python",
   "nbconvert_exporter": "python",
   "pygments_lexer": "ipython3",
   "version": "3.7.9"
  }
 },
 "nbformat": 4,
 "nbformat_minor": 1
}
